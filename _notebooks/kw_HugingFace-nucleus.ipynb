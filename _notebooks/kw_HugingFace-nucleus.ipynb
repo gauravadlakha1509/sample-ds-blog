{
 "cells": [
  {
   "cell_type": "code",
   "execution_count": 1,
   "id": "ab0da6eb",
   "metadata": {
    "slideshow": {
     "slide_type": "slide"
    }
   },
   "outputs": [],
   "source": [
    "# !pip install -q datasets\n",
    "# !pip install transformers[sentencepiece]\n",
    "# !pip install nb_black"
   ]
  },
  {
   "cell_type": "code",
   "execution_count": 2,
   "id": "9d8e5cd6",
   "metadata": {},
   "outputs": [
    {
     "data": {
      "application/javascript": [
       "\n",
       "            setTimeout(function() {\n",
       "                var nbb_cell_id = 2;\n",
       "                var nbb_unformatted_code = \"%load_ext nb_black\";\n",
       "                var nbb_formatted_code = \"%load_ext nb_black\";\n",
       "                var nbb_cells = Jupyter.notebook.get_cells();\n",
       "                for (var i = 0; i < nbb_cells.length; ++i) {\n",
       "                    if (nbb_cells[i].input_prompt_number == nbb_cell_id) {\n",
       "                        if (nbb_cells[i].get_text() == nbb_unformatted_code) {\n",
       "                             nbb_cells[i].set_text(nbb_formatted_code);\n",
       "                        }\n",
       "                        break;\n",
       "                    }\n",
       "                }\n",
       "            }, 500);\n",
       "            "
      ],
      "text/plain": [
       "<IPython.core.display.Javascript object>"
      ]
     },
     "metadata": {},
     "output_type": "display_data"
    }
   ],
   "source": [
    "%load_ext nb_black"
   ]
  },
  {
   "cell_type": "code",
   "execution_count": 3,
   "id": "2958aa8e",
   "metadata": {
    "slideshow": {
     "slide_type": "slide"
    }
   },
   "outputs": [
    {
     "data": {
      "application/javascript": [
       "\n",
       "            setTimeout(function() {\n",
       "                var nbb_cell_id = 3;\n",
       "                var nbb_unformatted_code = \"import pandas as pd\\nfrom pathlib import Path\\n\\npath = Path(\\\"/home/ec2-user/SageMaker/\\\")\\ndf = pd.read_csv(path / \\\"df_raw.csv\\\")\\ndf.dropna(inplace=True)\";\n",
       "                var nbb_formatted_code = \"import pandas as pd\\nfrom pathlib import Path\\n\\npath = Path(\\\"/home/ec2-user/SageMaker/\\\")\\ndf = pd.read_csv(path / \\\"df_raw.csv\\\")\\ndf.dropna(inplace=True)\";\n",
       "                var nbb_cells = Jupyter.notebook.get_cells();\n",
       "                for (var i = 0; i < nbb_cells.length; ++i) {\n",
       "                    if (nbb_cells[i].input_prompt_number == nbb_cell_id) {\n",
       "                        if (nbb_cells[i].get_text() == nbb_unformatted_code) {\n",
       "                             nbb_cells[i].set_text(nbb_formatted_code);\n",
       "                        }\n",
       "                        break;\n",
       "                    }\n",
       "                }\n",
       "            }, 500);\n",
       "            "
      ],
      "text/plain": [
       "<IPython.core.display.Javascript object>"
      ]
     },
     "metadata": {},
     "output_type": "display_data"
    }
   ],
   "source": [
    "import pandas as pd\n",
    "from pathlib import Path\n",
    "\n",
    "path = Path(\"/home/ec2-user/SageMaker/\")\n",
    "df = pd.read_csv(path / \"df_raw.csv\")\n",
    "df.dropna(inplace=True)"
   ]
  },
  {
   "cell_type": "code",
   "execution_count": 4,
   "id": "8eaec2b1",
   "metadata": {},
   "outputs": [
    {
     "data": {
      "text/html": [
       "<div>\n",
       "<style scoped>\n",
       "    .dataframe tbody tr th:only-of-type {\n",
       "        vertical-align: middle;\n",
       "    }\n",
       "\n",
       "    .dataframe tbody tr th {\n",
       "        vertical-align: top;\n",
       "    }\n",
       "\n",
       "    .dataframe thead th {\n",
       "        text-align: right;\n",
       "    }\n",
       "</style>\n",
       "<table border=\"1\" class=\"dataframe\">\n",
       "  <thead>\n",
       "    <tr style=\"text-align: right;\">\n",
       "      <th></th>\n",
       "      <th>gut_codes</th>\n",
       "      <th>transcript_text</th>\n",
       "    </tr>\n",
       "  </thead>\n",
       "  <tbody>\n",
       "    <tr>\n",
       "      <th>count</th>\n",
       "      <td>6268</td>\n",
       "      <td>6268</td>\n",
       "    </tr>\n",
       "    <tr>\n",
       "      <th>unique</th>\n",
       "      <td>505</td>\n",
       "      <td>2927</td>\n",
       "    </tr>\n",
       "    <tr>\n",
       "      <th>top</th>\n",
       "      <td>K12.MA-MA7-RPS-A.03</td>\n",
       "      <td>Explore the Relationship Among Fractions, Deci...</td>\n",
       "    </tr>\n",
       "    <tr>\n",
       "      <th>freq</th>\n",
       "      <td>82</td>\n",
       "      <td>60</td>\n",
       "    </tr>\n",
       "  </tbody>\n",
       "</table>\n",
       "</div>"
      ],
      "text/plain": [
       "                  gut_codes                                    transcript_text\n",
       "count                  6268                                               6268\n",
       "unique                  505                                               2927\n",
       "top     K12.MA-MA7-RPS-A.03  Explore the Relationship Among Fractions, Deci...\n",
       "freq                     82                                                 60"
      ]
     },
     "execution_count": 4,
     "metadata": {},
     "output_type": "execute_result"
    },
    {
     "data": {
      "application/javascript": [
       "\n",
       "            setTimeout(function() {\n",
       "                var nbb_cell_id = 4;\n",
       "                var nbb_unformatted_code = \"df.describe(include=\\\"object\\\")\";\n",
       "                var nbb_formatted_code = \"df.describe(include=\\\"object\\\")\";\n",
       "                var nbb_cells = Jupyter.notebook.get_cells();\n",
       "                for (var i = 0; i < nbb_cells.length; ++i) {\n",
       "                    if (nbb_cells[i].input_prompt_number == nbb_cell_id) {\n",
       "                        if (nbb_cells[i].get_text() == nbb_unformatted_code) {\n",
       "                             nbb_cells[i].set_text(nbb_formatted_code);\n",
       "                        }\n",
       "                        break;\n",
       "                    }\n",
       "                }\n",
       "            }, 500);\n",
       "            "
      ],
      "text/plain": [
       "<IPython.core.display.Javascript object>"
      ]
     },
     "metadata": {},
     "output_type": "display_data"
    }
   ],
   "source": [
    "df.describe(include=\"object\")"
   ]
  },
  {
   "cell_type": "code",
   "execution_count": 5,
   "id": "3845325e",
   "metadata": {},
   "outputs": [
    {
     "data": {
      "application/javascript": [
       "\n",
       "            setTimeout(function() {\n",
       "                var nbb_cell_id = 5;\n",
       "                var nbb_unformatted_code = \"gutcode_to_code = {val: idx for idx, val in enumerate(pd.unique(df.gut_codes))}\";\n",
       "                var nbb_formatted_code = \"gutcode_to_code = {val: idx for idx, val in enumerate(pd.unique(df.gut_codes))}\";\n",
       "                var nbb_cells = Jupyter.notebook.get_cells();\n",
       "                for (var i = 0; i < nbb_cells.length; ++i) {\n",
       "                    if (nbb_cells[i].input_prompt_number == nbb_cell_id) {\n",
       "                        if (nbb_cells[i].get_text() == nbb_unformatted_code) {\n",
       "                             nbb_cells[i].set_text(nbb_formatted_code);\n",
       "                        }\n",
       "                        break;\n",
       "                    }\n",
       "                }\n",
       "            }, 500);\n",
       "            "
      ],
      "text/plain": [
       "<IPython.core.display.Javascript object>"
      ]
     },
     "metadata": {},
     "output_type": "display_data"
    }
   ],
   "source": [
    "gutcode_to_code = {val: idx for idx, val in enumerate(pd.unique(df.gut_codes))}"
   ]
  },
  {
   "cell_type": "code",
   "execution_count": 6,
   "id": "20157b1d",
   "metadata": {},
   "outputs": [
    {
     "data": {
      "application/javascript": [
       "\n",
       "            setTimeout(function() {\n",
       "                var nbb_cell_id = 6;\n",
       "                var nbb_unformatted_code = \"df[\\\"labels\\\"] = df[\\\"gut_codes\\\"].map(lambda x: gutcode_to_code[x])\";\n",
       "                var nbb_formatted_code = \"df[\\\"labels\\\"] = df[\\\"gut_codes\\\"].map(lambda x: gutcode_to_code[x])\";\n",
       "                var nbb_cells = Jupyter.notebook.get_cells();\n",
       "                for (var i = 0; i < nbb_cells.length; ++i) {\n",
       "                    if (nbb_cells[i].input_prompt_number == nbb_cell_id) {\n",
       "                        if (nbb_cells[i].get_text() == nbb_unformatted_code) {\n",
       "                             nbb_cells[i].set_text(nbb_formatted_code);\n",
       "                        }\n",
       "                        break;\n",
       "                    }\n",
       "                }\n",
       "            }, 500);\n",
       "            "
      ],
      "text/plain": [
       "<IPython.core.display.Javascript object>"
      ]
     },
     "metadata": {},
     "output_type": "display_data"
    }
   ],
   "source": [
    "df[\"labels\"] = df[\"gut_codes\"].map(lambda x: gutcode_to_code[x])"
   ]
  },
  {
   "cell_type": "code",
   "execution_count": 7,
   "id": "12bf9a6a",
   "metadata": {},
   "outputs": [
    {
     "data": {
      "application/javascript": [
       "\n",
       "            setTimeout(function() {\n",
       "                var nbb_cell_id = 7;\n",
       "                var nbb_unformatted_code = \"# df = df.sample(1000)\";\n",
       "                var nbb_formatted_code = \"# df = df.sample(1000)\";\n",
       "                var nbb_cells = Jupyter.notebook.get_cells();\n",
       "                for (var i = 0; i < nbb_cells.length; ++i) {\n",
       "                    if (nbb_cells[i].input_prompt_number == nbb_cell_id) {\n",
       "                        if (nbb_cells[i].get_text() == nbb_unformatted_code) {\n",
       "                             nbb_cells[i].set_text(nbb_formatted_code);\n",
       "                        }\n",
       "                        break;\n",
       "                    }\n",
       "                }\n",
       "            }, 500);\n",
       "            "
      ],
      "text/plain": [
       "<IPython.core.display.Javascript object>"
      ]
     },
     "metadata": {},
     "output_type": "display_data"
    }
   ],
   "source": [
    "# df = df.sample(1000)"
   ]
  },
  {
   "cell_type": "code",
   "execution_count": 8,
   "id": "6a09e51d",
   "metadata": {},
   "outputs": [
    {
     "data": {
      "text/html": [
       "<div>\n",
       "<style scoped>\n",
       "    .dataframe tbody tr th:only-of-type {\n",
       "        vertical-align: middle;\n",
       "    }\n",
       "\n",
       "    .dataframe tbody tr th {\n",
       "        vertical-align: top;\n",
       "    }\n",
       "\n",
       "    .dataframe thead th {\n",
       "        text-align: right;\n",
       "    }\n",
       "</style>\n",
       "<table border=\"1\" class=\"dataframe\">\n",
       "  <thead>\n",
       "    <tr style=\"text-align: right;\">\n",
       "      <th></th>\n",
       "      <th>Unnamed: 0</th>\n",
       "      <th>gut_codes</th>\n",
       "      <th>transcript_text</th>\n",
       "      <th>labels</th>\n",
       "    </tr>\n",
       "  </thead>\n",
       "  <tbody>\n",
       "    <tr>\n",
       "      <th>0</th>\n",
       "      <td>0</td>\n",
       "      <td>K12.MA-MA6-RPS-A.02</td>\n",
       "      <td>Ratio Worksheets | Simple Ratio Worksheets Thi...</td>\n",
       "      <td>0</td>\n",
       "    </tr>\n",
       "    <tr>\n",
       "      <th>1</th>\n",
       "      <td>1</td>\n",
       "      <td>K12.MA-A1-A-REI.C.01</td>\n",
       "      <td>Systems of Linear Equations: Solving by Additi...</td>\n",
       "      <td>1</td>\n",
       "    </tr>\n",
       "    <tr>\n",
       "      <th>2</th>\n",
       "      <td>2</td>\n",
       "      <td>K12.MA-A1-F-IF.B.01</td>\n",
       "      <td>Increasing and Decreasing Functions math, math...</td>\n",
       "      <td>2</td>\n",
       "    </tr>\n",
       "    <tr>\n",
       "      <th>3</th>\n",
       "      <td>3</td>\n",
       "      <td>K12.MA-A2-F-IF.B.01</td>\n",
       "      <td>Increasing and Decreasing Functions math, math...</td>\n",
       "      <td>3</td>\n",
       "    </tr>\n",
       "    <tr>\n",
       "      <th>4</th>\n",
       "      <td>4</td>\n",
       "      <td>K12.MA-A1-F-LE.A.01.03</td>\n",
       "      <td>Increasing and Decreasing Functions math, math...</td>\n",
       "      <td>4</td>\n",
       "    </tr>\n",
       "    <tr>\n",
       "      <th>...</th>\n",
       "      <td>...</td>\n",
       "      <td>...</td>\n",
       "      <td>...</td>\n",
       "      <td>...</td>\n",
       "    </tr>\n",
       "    <tr>\n",
       "      <th>8472</th>\n",
       "      <td>8472</td>\n",
       "      <td>K12.MA-A1-A-SSE.B.01.03</td>\n",
       "      <td>Illustrative Mathematics Providing instruction...</td>\n",
       "      <td>26</td>\n",
       "    </tr>\n",
       "    <tr>\n",
       "      <th>8473</th>\n",
       "      <td>8473</td>\n",
       "      <td>K12.MA-A1-A-REI.B.02.02</td>\n",
       "      <td>3 Ways to Solve Quadratic Equations - wikiHow ...</td>\n",
       "      <td>85</td>\n",
       "    </tr>\n",
       "    <tr>\n",
       "      <th>8474</th>\n",
       "      <td>8474</td>\n",
       "      <td>K12.MA-GEO-SP-CP.A.02</td>\n",
       "      <td>Illustrative Mathematics Providing instruction...</td>\n",
       "      <td>115</td>\n",
       "    </tr>\n",
       "    <tr>\n",
       "      <th>8475</th>\n",
       "      <td>8475</td>\n",
       "      <td>K12.MA-GEO-SP-CP.A.03</td>\n",
       "      <td>Illustrative Mathematics Providing instruction...</td>\n",
       "      <td>113</td>\n",
       "    </tr>\n",
       "    <tr>\n",
       "      <th>8476</th>\n",
       "      <td>8476</td>\n",
       "      <td>K12.MA-MA6-TNS-C.02.02</td>\n",
       "      <td>Diplodocus Using Coordinates math, maths, math...</td>\n",
       "      <td>287</td>\n",
       "    </tr>\n",
       "  </tbody>\n",
       "</table>\n",
       "<p>6268 rows × 4 columns</p>\n",
       "</div>"
      ],
      "text/plain": [
       "      Unnamed: 0                gut_codes  \\\n",
       "0              0      K12.MA-MA6-RPS-A.02   \n",
       "1              1     K12.MA-A1-A-REI.C.01   \n",
       "2              2      K12.MA-A1-F-IF.B.01   \n",
       "3              3      K12.MA-A2-F-IF.B.01   \n",
       "4              4   K12.MA-A1-F-LE.A.01.03   \n",
       "...          ...                      ...   \n",
       "8472        8472  K12.MA-A1-A-SSE.B.01.03   \n",
       "8473        8473  K12.MA-A1-A-REI.B.02.02   \n",
       "8474        8474    K12.MA-GEO-SP-CP.A.02   \n",
       "8475        8475    K12.MA-GEO-SP-CP.A.03   \n",
       "8476        8476   K12.MA-MA6-TNS-C.02.02   \n",
       "\n",
       "                                        transcript_text  labels  \n",
       "0     Ratio Worksheets | Simple Ratio Worksheets Thi...       0  \n",
       "1     Systems of Linear Equations: Solving by Additi...       1  \n",
       "2     Increasing and Decreasing Functions math, math...       2  \n",
       "3     Increasing and Decreasing Functions math, math...       3  \n",
       "4     Increasing and Decreasing Functions math, math...       4  \n",
       "...                                                 ...     ...  \n",
       "8472  Illustrative Mathematics Providing instruction...      26  \n",
       "8473  3 Ways to Solve Quadratic Equations - wikiHow ...      85  \n",
       "8474  Illustrative Mathematics Providing instruction...     115  \n",
       "8475  Illustrative Mathematics Providing instruction...     113  \n",
       "8476  Diplodocus Using Coordinates math, maths, math...     287  \n",
       "\n",
       "[6268 rows x 4 columns]"
      ]
     },
     "execution_count": 8,
     "metadata": {},
     "output_type": "execute_result"
    },
    {
     "data": {
      "application/javascript": [
       "\n",
       "            setTimeout(function() {\n",
       "                var nbb_cell_id = 8;\n",
       "                var nbb_unformatted_code = \"df\";\n",
       "                var nbb_formatted_code = \"df\";\n",
       "                var nbb_cells = Jupyter.notebook.get_cells();\n",
       "                for (var i = 0; i < nbb_cells.length; ++i) {\n",
       "                    if (nbb_cells[i].input_prompt_number == nbb_cell_id) {\n",
       "                        if (nbb_cells[i].get_text() == nbb_unformatted_code) {\n",
       "                             nbb_cells[i].set_text(nbb_formatted_code);\n",
       "                        }\n",
       "                        break;\n",
       "                    }\n",
       "                }\n",
       "            }, 500);\n",
       "            "
      ],
      "text/plain": [
       "<IPython.core.display.Javascript object>"
      ]
     },
     "metadata": {},
     "output_type": "display_data"
    }
   ],
   "source": [
    "df"
   ]
  },
  {
   "cell_type": "code",
   "execution_count": 9,
   "id": "5d888cf9",
   "metadata": {},
   "outputs": [
    {
     "data": {
      "application/javascript": [
       "\n",
       "            setTimeout(function() {\n",
       "                var nbb_cell_id = 9;\n",
       "                var nbb_unformatted_code = \"df[\\\"text\\\"] = \\\"TEXT1: \\\" + df.transcript_text\";\n",
       "                var nbb_formatted_code = \"df[\\\"text\\\"] = \\\"TEXT1: \\\" + df.transcript_text\";\n",
       "                var nbb_cells = Jupyter.notebook.get_cells();\n",
       "                for (var i = 0; i < nbb_cells.length; ++i) {\n",
       "                    if (nbb_cells[i].input_prompt_number == nbb_cell_id) {\n",
       "                        if (nbb_cells[i].get_text() == nbb_unformatted_code) {\n",
       "                             nbb_cells[i].set_text(nbb_formatted_code);\n",
       "                        }\n",
       "                        break;\n",
       "                    }\n",
       "                }\n",
       "            }, 500);\n",
       "            "
      ],
      "text/plain": [
       "<IPython.core.display.Javascript object>"
      ]
     },
     "metadata": {},
     "output_type": "display_data"
    }
   ],
   "source": [
    "df[\"text\"] = \"TEXT1: \" + df.transcript_text"
   ]
  },
  {
   "cell_type": "code",
   "execution_count": 10,
   "id": "5b24cd03",
   "metadata": {},
   "outputs": [
    {
     "data": {
      "application/javascript": [
       "\n",
       "            setTimeout(function() {\n",
       "                var nbb_cell_id = 10;\n",
       "                var nbb_unformatted_code = \"from datasets import Dataset, DatasetDict\\n\\ndataset = Dataset.from_pandas(df)\";\n",
       "                var nbb_formatted_code = \"from datasets import Dataset, DatasetDict\\n\\ndataset = Dataset.from_pandas(df)\";\n",
       "                var nbb_cells = Jupyter.notebook.get_cells();\n",
       "                for (var i = 0; i < nbb_cells.length; ++i) {\n",
       "                    if (nbb_cells[i].input_prompt_number == nbb_cell_id) {\n",
       "                        if (nbb_cells[i].get_text() == nbb_unformatted_code) {\n",
       "                             nbb_cells[i].set_text(nbb_formatted_code);\n",
       "                        }\n",
       "                        break;\n",
       "                    }\n",
       "                }\n",
       "            }, 500);\n",
       "            "
      ],
      "text/plain": [
       "<IPython.core.display.Javascript object>"
      ]
     },
     "metadata": {},
     "output_type": "display_data"
    }
   ],
   "source": [
    "from datasets import Dataset, DatasetDict\n",
    "\n",
    "dataset = Dataset.from_pandas(df)"
   ]
  },
  {
   "cell_type": "code",
   "execution_count": 11,
   "id": "148927f9",
   "metadata": {},
   "outputs": [
    {
     "data": {
      "text/plain": [
       "Dataset({\n",
       "    features: ['Unnamed: 0', 'gut_codes', 'transcript_text', 'labels', 'text', '__index_level_0__'],\n",
       "    num_rows: 6268\n",
       "})"
      ]
     },
     "execution_count": 11,
     "metadata": {},
     "output_type": "execute_result"
    },
    {
     "data": {
      "application/javascript": [
       "\n",
       "            setTimeout(function() {\n",
       "                var nbb_cell_id = 11;\n",
       "                var nbb_unformatted_code = \"dataset\";\n",
       "                var nbb_formatted_code = \"dataset\";\n",
       "                var nbb_cells = Jupyter.notebook.get_cells();\n",
       "                for (var i = 0; i < nbb_cells.length; ++i) {\n",
       "                    if (nbb_cells[i].input_prompt_number == nbb_cell_id) {\n",
       "                        if (nbb_cells[i].get_text() == nbb_unformatted_code) {\n",
       "                             nbb_cells[i].set_text(nbb_formatted_code);\n",
       "                        }\n",
       "                        break;\n",
       "                    }\n",
       "                }\n",
       "            }, 500);\n",
       "            "
      ],
      "text/plain": [
       "<IPython.core.display.Javascript object>"
      ]
     },
     "metadata": {},
     "output_type": "display_data"
    }
   ],
   "source": [
    "dataset"
   ]
  },
  {
   "cell_type": "code",
   "execution_count": 12,
   "id": "66479332",
   "metadata": {},
   "outputs": [
    {
     "data": {
      "application/javascript": [
       "\n",
       "            setTimeout(function() {\n",
       "                var nbb_cell_id = 12;\n",
       "                var nbb_unformatted_code = \"dataset = dataset.remove_columns([\\\"Unnamed: 0\\\", \\\"transcript_text\\\", \\\"__index_level_0__\\\"])\";\n",
       "                var nbb_formatted_code = \"dataset = dataset.remove_columns([\\\"Unnamed: 0\\\", \\\"transcript_text\\\", \\\"__index_level_0__\\\"])\";\n",
       "                var nbb_cells = Jupyter.notebook.get_cells();\n",
       "                for (var i = 0; i < nbb_cells.length; ++i) {\n",
       "                    if (nbb_cells[i].input_prompt_number == nbb_cell_id) {\n",
       "                        if (nbb_cells[i].get_text() == nbb_unformatted_code) {\n",
       "                             nbb_cells[i].set_text(nbb_formatted_code);\n",
       "                        }\n",
       "                        break;\n",
       "                    }\n",
       "                }\n",
       "            }, 500);\n",
       "            "
      ],
      "text/plain": [
       "<IPython.core.display.Javascript object>"
      ]
     },
     "metadata": {},
     "output_type": "display_data"
    }
   ],
   "source": [
    "dataset = dataset.remove_columns([\"Unnamed: 0\", \"transcript_text\", \"__index_level_0__\"])"
   ]
  },
  {
   "cell_type": "code",
   "execution_count": 13,
   "id": "fefaef16",
   "metadata": {},
   "outputs": [
    {
     "data": {
      "text/plain": [
       "Dataset({\n",
       "    features: ['gut_codes', 'labels', 'text'],\n",
       "    num_rows: 6268\n",
       "})"
      ]
     },
     "execution_count": 13,
     "metadata": {},
     "output_type": "execute_result"
    },
    {
     "data": {
      "application/javascript": [
       "\n",
       "            setTimeout(function() {\n",
       "                var nbb_cell_id = 13;\n",
       "                var nbb_unformatted_code = \"dataset\";\n",
       "                var nbb_formatted_code = \"dataset\";\n",
       "                var nbb_cells = Jupyter.notebook.get_cells();\n",
       "                for (var i = 0; i < nbb_cells.length; ++i) {\n",
       "                    if (nbb_cells[i].input_prompt_number == nbb_cell_id) {\n",
       "                        if (nbb_cells[i].get_text() == nbb_unformatted_code) {\n",
       "                             nbb_cells[i].set_text(nbb_formatted_code);\n",
       "                        }\n",
       "                        break;\n",
       "                    }\n",
       "                }\n",
       "            }, 500);\n",
       "            "
      ],
      "text/plain": [
       "<IPython.core.display.Javascript object>"
      ]
     },
     "metadata": {},
     "output_type": "display_data"
    }
   ],
   "source": [
    "dataset"
   ]
  },
  {
   "cell_type": "code",
   "execution_count": 14,
   "id": "87c5753c",
   "metadata": {},
   "outputs": [
    {
     "data": {
      "application/javascript": [
       "\n",
       "            setTimeout(function() {\n",
       "                var nbb_cell_id = 14;\n",
       "                var nbb_unformatted_code = \"dataset = dataset.train_test_split(0.10, seed=42)\";\n",
       "                var nbb_formatted_code = \"dataset = dataset.train_test_split(0.10, seed=42)\";\n",
       "                var nbb_cells = Jupyter.notebook.get_cells();\n",
       "                for (var i = 0; i < nbb_cells.length; ++i) {\n",
       "                    if (nbb_cells[i].input_prompt_number == nbb_cell_id) {\n",
       "                        if (nbb_cells[i].get_text() == nbb_unformatted_code) {\n",
       "                             nbb_cells[i].set_text(nbb_formatted_code);\n",
       "                        }\n",
       "                        break;\n",
       "                    }\n",
       "                }\n",
       "            }, 500);\n",
       "            "
      ],
      "text/plain": [
       "<IPython.core.display.Javascript object>"
      ]
     },
     "metadata": {},
     "output_type": "display_data"
    }
   ],
   "source": [
    "dataset = dataset.train_test_split(0.10, seed=42)"
   ]
  },
  {
   "cell_type": "code",
   "execution_count": 15,
   "id": "d47424f3",
   "metadata": {},
   "outputs": [
    {
     "data": {
      "text/plain": [
       "DatasetDict({\n",
       "    train: Dataset({\n",
       "        features: ['gut_codes', 'labels', 'text'],\n",
       "        num_rows: 5641\n",
       "    })\n",
       "    test: Dataset({\n",
       "        features: ['gut_codes', 'labels', 'text'],\n",
       "        num_rows: 627\n",
       "    })\n",
       "})"
      ]
     },
     "execution_count": 15,
     "metadata": {},
     "output_type": "execute_result"
    },
    {
     "data": {
      "application/javascript": [
       "\n",
       "            setTimeout(function() {\n",
       "                var nbb_cell_id = 15;\n",
       "                var nbb_unformatted_code = \"dataset\";\n",
       "                var nbb_formatted_code = \"dataset\";\n",
       "                var nbb_cells = Jupyter.notebook.get_cells();\n",
       "                for (var i = 0; i < nbb_cells.length; ++i) {\n",
       "                    if (nbb_cells[i].input_prompt_number == nbb_cell_id) {\n",
       "                        if (nbb_cells[i].get_text() == nbb_unformatted_code) {\n",
       "                             nbb_cells[i].set_text(nbb_formatted_code);\n",
       "                        }\n",
       "                        break;\n",
       "                    }\n",
       "                }\n",
       "            }, 500);\n",
       "            "
      ],
      "text/plain": [
       "<IPython.core.display.Javascript object>"
      ]
     },
     "metadata": {},
     "output_type": "display_data"
    }
   ],
   "source": [
    "dataset"
   ]
  },
  {
   "cell_type": "code",
   "execution_count": 16,
   "id": "b32877d8",
   "metadata": {},
   "outputs": [
    {
     "data": {
      "application/javascript": [
       "\n",
       "            setTimeout(function() {\n",
       "                var nbb_cell_id = 16;\n",
       "                var nbb_unformatted_code = \"from transformers import DistilBertTokenizerFast\\n\\ntokenizer = DistilBertTokenizerFast.from_pretrained(\\\"distilbert-base-uncased\\\")\";\n",
       "                var nbb_formatted_code = \"from transformers import DistilBertTokenizerFast\\n\\ntokenizer = DistilBertTokenizerFast.from_pretrained(\\\"distilbert-base-uncased\\\")\";\n",
       "                var nbb_cells = Jupyter.notebook.get_cells();\n",
       "                for (var i = 0; i < nbb_cells.length; ++i) {\n",
       "                    if (nbb_cells[i].input_prompt_number == nbb_cell_id) {\n",
       "                        if (nbb_cells[i].get_text() == nbb_unformatted_code) {\n",
       "                             nbb_cells[i].set_text(nbb_formatted_code);\n",
       "                        }\n",
       "                        break;\n",
       "                    }\n",
       "                }\n",
       "            }, 500);\n",
       "            "
      ],
      "text/plain": [
       "<IPython.core.display.Javascript object>"
      ]
     },
     "metadata": {},
     "output_type": "display_data"
    }
   ],
   "source": [
    "from transformers import DistilBertTokenizerFast\n",
    "\n",
    "tokenizer = DistilBertTokenizerFast.from_pretrained(\"distilbert-base-uncased\")"
   ]
  },
  {
   "cell_type": "code",
   "execution_count": 17,
   "id": "b573c381",
   "metadata": {},
   "outputs": [
    {
     "data": {
      "application/javascript": [
       "\n",
       "            setTimeout(function() {\n",
       "                var nbb_cell_id = 17;\n",
       "                var nbb_unformatted_code = \"train_encodings = tokenizer(\\n    dataset[\\\"train\\\"][\\\"text\\\"],\\n    truncation=True,\\n    padding=True,\\n    max_length=512,\\n    return_tensors=\\\"pt\\\",\\n)\\nval_encodings = tokenizer(\\n    dataset[\\\"test\\\"][\\\"text\\\"],\\n    truncation=True,\\n    padding=True,\\n    max_length=512,\\n    return_tensors=\\\"pt\\\",\\n)\";\n",
       "                var nbb_formatted_code = \"train_encodings = tokenizer(\\n    dataset[\\\"train\\\"][\\\"text\\\"],\\n    truncation=True,\\n    padding=True,\\n    max_length=512,\\n    return_tensors=\\\"pt\\\",\\n)\\nval_encodings = tokenizer(\\n    dataset[\\\"test\\\"][\\\"text\\\"],\\n    truncation=True,\\n    padding=True,\\n    max_length=512,\\n    return_tensors=\\\"pt\\\",\\n)\";\n",
       "                var nbb_cells = Jupyter.notebook.get_cells();\n",
       "                for (var i = 0; i < nbb_cells.length; ++i) {\n",
       "                    if (nbb_cells[i].input_prompt_number == nbb_cell_id) {\n",
       "                        if (nbb_cells[i].get_text() == nbb_unformatted_code) {\n",
       "                             nbb_cells[i].set_text(nbb_formatted_code);\n",
       "                        }\n",
       "                        break;\n",
       "                    }\n",
       "                }\n",
       "            }, 500);\n",
       "            "
      ],
      "text/plain": [
       "<IPython.core.display.Javascript object>"
      ]
     },
     "metadata": {},
     "output_type": "display_data"
    }
   ],
   "source": [
    "train_encodings = tokenizer(\n",
    "    dataset[\"train\"][\"text\"],\n",
    "    truncation=True,\n",
    "    padding=True,\n",
    "    max_length=512,\n",
    "    return_tensors=\"pt\",\n",
    ")\n",
    "val_encodings = tokenizer(\n",
    "    dataset[\"test\"][\"text\"],\n",
    "    truncation=True,\n",
    "    padding=True,\n",
    "    max_length=512,\n",
    "    return_tensors=\"pt\",\n",
    ")"
   ]
  },
  {
   "cell_type": "code",
   "execution_count": 18,
   "id": "485c070e",
   "metadata": {},
   "outputs": [
    {
     "data": {
      "application/javascript": [
       "\n",
       "            setTimeout(function() {\n",
       "                var nbb_cell_id = 18;\n",
       "                var nbb_unformatted_code = \"import torch\\n\\n\\nclass BankingDataset(torch.utils.data.Dataset):\\n    def __init__(self, encodings, labels):\\n        self.encodings = encodings\\n        self.labels = labels\\n\\n    def __getitem__(self, idx):\\n        item = {key: torch.tensor(val[idx]) for key, val in self.encodings.items()}\\n        item[\\\"labels\\\"] = torch.tensor(self.labels[idx])\\n        return item\\n\\n    def __len__(self):\\n        return len(self.labels)\";\n",
       "                var nbb_formatted_code = \"import torch\\n\\n\\nclass BankingDataset(torch.utils.data.Dataset):\\n    def __init__(self, encodings, labels):\\n        self.encodings = encodings\\n        self.labels = labels\\n\\n    def __getitem__(self, idx):\\n        item = {key: torch.tensor(val[idx]) for key, val in self.encodings.items()}\\n        item[\\\"labels\\\"] = torch.tensor(self.labels[idx])\\n        return item\\n\\n    def __len__(self):\\n        return len(self.labels)\";\n",
       "                var nbb_cells = Jupyter.notebook.get_cells();\n",
       "                for (var i = 0; i < nbb_cells.length; ++i) {\n",
       "                    if (nbb_cells[i].input_prompt_number == nbb_cell_id) {\n",
       "                        if (nbb_cells[i].get_text() == nbb_unformatted_code) {\n",
       "                             nbb_cells[i].set_text(nbb_formatted_code);\n",
       "                        }\n",
       "                        break;\n",
       "                    }\n",
       "                }\n",
       "            }, 500);\n",
       "            "
      ],
      "text/plain": [
       "<IPython.core.display.Javascript object>"
      ]
     },
     "metadata": {},
     "output_type": "display_data"
    }
   ],
   "source": [
    "import torch\n",
    "\n",
    "\n",
    "class BankingDataset(torch.utils.data.Dataset):\n",
    "    def __init__(self, encodings, labels):\n",
    "        self.encodings = encodings\n",
    "        self.labels = labels\n",
    "\n",
    "    def __getitem__(self, idx):\n",
    "        item = {key: torch.tensor(val[idx]) for key, val in self.encodings.items()}\n",
    "        item[\"labels\"] = torch.tensor(self.labels[idx])\n",
    "        return item\n",
    "\n",
    "    def __len__(self):\n",
    "        return len(self.labels)"
   ]
  },
  {
   "cell_type": "code",
   "execution_count": 19,
   "id": "3bb84b9c",
   "metadata": {},
   "outputs": [
    {
     "data": {
      "application/javascript": [
       "\n",
       "            setTimeout(function() {\n",
       "                var nbb_cell_id = 19;\n",
       "                var nbb_unformatted_code = \"train_dataset = BankingDataset(train_encodings, dataset[\\\"train\\\"][\\\"labels\\\"])\\nval_dataset = BankingDataset(val_encodings, dataset[\\\"test\\\"][\\\"labels\\\"])\\n# test_dataset = IMDbDataset(test_encodings, test_labels)\";\n",
       "                var nbb_formatted_code = \"train_dataset = BankingDataset(train_encodings, dataset[\\\"train\\\"][\\\"labels\\\"])\\nval_dataset = BankingDataset(val_encodings, dataset[\\\"test\\\"][\\\"labels\\\"])\\n# test_dataset = IMDbDataset(test_encodings, test_labels)\";\n",
       "                var nbb_cells = Jupyter.notebook.get_cells();\n",
       "                for (var i = 0; i < nbb_cells.length; ++i) {\n",
       "                    if (nbb_cells[i].input_prompt_number == nbb_cell_id) {\n",
       "                        if (nbb_cells[i].get_text() == nbb_unformatted_code) {\n",
       "                             nbb_cells[i].set_text(nbb_formatted_code);\n",
       "                        }\n",
       "                        break;\n",
       "                    }\n",
       "                }\n",
       "            }, 500);\n",
       "            "
      ],
      "text/plain": [
       "<IPython.core.display.Javascript object>"
      ]
     },
     "metadata": {},
     "output_type": "display_data"
    }
   ],
   "source": [
    "train_dataset = BankingDataset(train_encodings, dataset[\"train\"][\"labels\"])\n",
    "val_dataset = BankingDataset(val_encodings, dataset[\"test\"][\"labels\"])\n",
    "# test_dataset = IMDbDataset(test_encodings, test_labels)"
   ]
  },
  {
   "cell_type": "code",
   "execution_count": 20,
   "id": "3a626157",
   "metadata": {},
   "outputs": [
    {
     "data": {
      "application/javascript": [
       "\n",
       "            setTimeout(function() {\n",
       "                var nbb_cell_id = 20;\n",
       "                var nbb_unformatted_code = \"from transformers import TrainingArguments, Trainer\\nfrom transformers import AutoModelForSequenceClassification, AutoTokenizer\";\n",
       "                var nbb_formatted_code = \"from transformers import TrainingArguments, Trainer\\nfrom transformers import AutoModelForSequenceClassification, AutoTokenizer\";\n",
       "                var nbb_cells = Jupyter.notebook.get_cells();\n",
       "                for (var i = 0; i < nbb_cells.length; ++i) {\n",
       "                    if (nbb_cells[i].input_prompt_number == nbb_cell_id) {\n",
       "                        if (nbb_cells[i].get_text() == nbb_unformatted_code) {\n",
       "                             nbb_cells[i].set_text(nbb_formatted_code);\n",
       "                        }\n",
       "                        break;\n",
       "                    }\n",
       "                }\n",
       "            }, 500);\n",
       "            "
      ],
      "text/plain": [
       "<IPython.core.display.Javascript object>"
      ]
     },
     "metadata": {},
     "output_type": "display_data"
    }
   ],
   "source": [
    "from transformers import TrainingArguments, Trainer\n",
    "from transformers import AutoModelForSequenceClassification, AutoTokenizer"
   ]
  },
  {
   "cell_type": "code",
   "execution_count": 21,
   "id": "efc1fe93",
   "metadata": {},
   "outputs": [
    {
     "data": {
      "application/javascript": [
       "\n",
       "            setTimeout(function() {\n",
       "                var nbb_cell_id = 21;\n",
       "                var nbb_unformatted_code = \"bs = 16\\nepochs = 4\\nlr = 8e-5\";\n",
       "                var nbb_formatted_code = \"bs = 16\\nepochs = 4\\nlr = 8e-5\";\n",
       "                var nbb_cells = Jupyter.notebook.get_cells();\n",
       "                for (var i = 0; i < nbb_cells.length; ++i) {\n",
       "                    if (nbb_cells[i].input_prompt_number == nbb_cell_id) {\n",
       "                        if (nbb_cells[i].get_text() == nbb_unformatted_code) {\n",
       "                             nbb_cells[i].set_text(nbb_formatted_code);\n",
       "                        }\n",
       "                        break;\n",
       "                    }\n",
       "                }\n",
       "            }, 500);\n",
       "            "
      ],
      "text/plain": [
       "<IPython.core.display.Javascript object>"
      ]
     },
     "metadata": {},
     "output_type": "display_data"
    }
   ],
   "source": [
    "bs = 16\n",
    "epochs = 4\n",
    "lr = 8e-5"
   ]
  },
  {
   "cell_type": "code",
   "execution_count": 22,
   "id": "cf84fc9d",
   "metadata": {},
   "outputs": [
    {
     "data": {
      "application/javascript": [
       "\n",
       "            setTimeout(function() {\n",
       "                var nbb_cell_id = 22;\n",
       "                var nbb_unformatted_code = \"args = TrainingArguments(\\n    \\\"outputs\\\",\\n    learning_rate=lr,\\n    warmup_ratio=0.1,\\n    lr_scheduler_type=\\\"cosine\\\",\\n    fp16=True,\\n    evaluation_strategy=\\\"epoch\\\",\\n    per_device_train_batch_size=bs,\\n    per_device_eval_batch_size=bs * 2,\\n    num_train_epochs=epochs,\\n    weight_decay=0.01,\\n    report_to=\\\"none\\\",\\n)\";\n",
       "                var nbb_formatted_code = \"args = TrainingArguments(\\n    \\\"outputs\\\",\\n    learning_rate=lr,\\n    warmup_ratio=0.1,\\n    lr_scheduler_type=\\\"cosine\\\",\\n    fp16=True,\\n    evaluation_strategy=\\\"epoch\\\",\\n    per_device_train_batch_size=bs,\\n    per_device_eval_batch_size=bs * 2,\\n    num_train_epochs=epochs,\\n    weight_decay=0.01,\\n    report_to=\\\"none\\\",\\n)\";\n",
       "                var nbb_cells = Jupyter.notebook.get_cells();\n",
       "                for (var i = 0; i < nbb_cells.length; ++i) {\n",
       "                    if (nbb_cells[i].input_prompt_number == nbb_cell_id) {\n",
       "                        if (nbb_cells[i].get_text() == nbb_unformatted_code) {\n",
       "                             nbb_cells[i].set_text(nbb_formatted_code);\n",
       "                        }\n",
       "                        break;\n",
       "                    }\n",
       "                }\n",
       "            }, 500);\n",
       "            "
      ],
      "text/plain": [
       "<IPython.core.display.Javascript object>"
      ]
     },
     "metadata": {},
     "output_type": "display_data"
    }
   ],
   "source": [
    "args = TrainingArguments(\n",
    "    \"outputs\",\n",
    "    learning_rate=lr,\n",
    "    warmup_ratio=0.1,\n",
    "    lr_scheduler_type=\"cosine\",\n",
    "    fp16=True,\n",
    "    evaluation_strategy=\"epoch\",\n",
    "    per_device_train_batch_size=bs,\n",
    "    per_device_eval_batch_size=bs * 2,\n",
    "    num_train_epochs=epochs,\n",
    "    weight_decay=0.01,\n",
    "    report_to=\"none\",\n",
    ")"
   ]
  },
  {
   "cell_type": "code",
   "execution_count": 23,
   "id": "6d524d15",
   "metadata": {},
   "outputs": [
    {
     "data": {
      "application/javascript": [
       "\n",
       "            setTimeout(function() {\n",
       "                var nbb_cell_id = 23;\n",
       "                var nbb_unformatted_code = \"def compute_metrics(eval_pred):\\n    import numpy as np\\n    from datasets import load_metric\\n\\n    metric1 = load_metric(\\\"precision\\\")\\n    metric2 = load_metric(\\\"recall\\\")\\n    metric3 = load_metric(\\\"f1\\\")\\n    metric4 = load_metric(\\\"accuracy\\\")\\n\\n    logits, labels = eval_pred\\n    predictions = np.argmax(logits, axis=-1)\\n\\n    precision = metric1.compute(\\n        predictions=predictions, references=labels, average=\\\"micro\\\"\\n    )[\\\"precision\\\"]\\n    recall = metric2.compute(\\n        predictions=predictions, references=labels, average=\\\"micro\\\"\\n    )[\\\"recall\\\"]\\n    f1 = metric3.compute(predictions=predictions, references=labels, average=\\\"micro\\\")[\\n        \\\"f1\\\"\\n    ]\\n    accuracy = metric4.compute(predictions=predictions, references=labels)[\\\"accuracy\\\"]\\n\\n    return {\\\"precision\\\": precision, \\\"recall\\\": recall, \\\"f1\\\": f1, \\\"accuracy\\\": accuracy}\";\n",
       "                var nbb_formatted_code = \"def compute_metrics(eval_pred):\\n    import numpy as np\\n    from datasets import load_metric\\n\\n    metric1 = load_metric(\\\"precision\\\")\\n    metric2 = load_metric(\\\"recall\\\")\\n    metric3 = load_metric(\\\"f1\\\")\\n    metric4 = load_metric(\\\"accuracy\\\")\\n\\n    logits, labels = eval_pred\\n    predictions = np.argmax(logits, axis=-1)\\n\\n    precision = metric1.compute(\\n        predictions=predictions, references=labels, average=\\\"micro\\\"\\n    )[\\\"precision\\\"]\\n    recall = metric2.compute(\\n        predictions=predictions, references=labels, average=\\\"micro\\\"\\n    )[\\\"recall\\\"]\\n    f1 = metric3.compute(predictions=predictions, references=labels, average=\\\"micro\\\")[\\n        \\\"f1\\\"\\n    ]\\n    accuracy = metric4.compute(predictions=predictions, references=labels)[\\\"accuracy\\\"]\\n\\n    return {\\\"precision\\\": precision, \\\"recall\\\": recall, \\\"f1\\\": f1, \\\"accuracy\\\": accuracy}\";\n",
       "                var nbb_cells = Jupyter.notebook.get_cells();\n",
       "                for (var i = 0; i < nbb_cells.length; ++i) {\n",
       "                    if (nbb_cells[i].input_prompt_number == nbb_cell_id) {\n",
       "                        if (nbb_cells[i].get_text() == nbb_unformatted_code) {\n",
       "                             nbb_cells[i].set_text(nbb_formatted_code);\n",
       "                        }\n",
       "                        break;\n",
       "                    }\n",
       "                }\n",
       "            }, 500);\n",
       "            "
      ],
      "text/plain": [
       "<IPython.core.display.Javascript object>"
      ]
     },
     "metadata": {},
     "output_type": "display_data"
    }
   ],
   "source": [
    "def compute_metrics(eval_pred):\n",
    "    import numpy as np\n",
    "    from datasets import load_metric\n",
    "\n",
    "    metric1 = load_metric(\"precision\")\n",
    "    metric2 = load_metric(\"recall\")\n",
    "    metric3 = load_metric(\"f1\")\n",
    "    metric4 = load_metric(\"accuracy\")\n",
    "\n",
    "    logits, labels = eval_pred\n",
    "    predictions = np.argmax(logits, axis=-1)\n",
    "\n",
    "    precision = metric1.compute(\n",
    "        predictions=predictions, references=labels, average=\"micro\"\n",
    "    )[\"precision\"]\n",
    "    recall = metric2.compute(\n",
    "        predictions=predictions, references=labels, average=\"micro\"\n",
    "    )[\"recall\"]\n",
    "    f1 = metric3.compute(predictions=predictions, references=labels, average=\"micro\")[\n",
    "        \"f1\"\n",
    "    ]\n",
    "    accuracy = metric4.compute(predictions=predictions, references=labels)[\"accuracy\"]\n",
    "\n",
    "    return {\"precision\": precision, \"recall\": recall, \"f1\": f1, \"accuracy\": accuracy}"
   ]
  },
  {
   "cell_type": "code",
   "execution_count": 24,
   "id": "11a7357a",
   "metadata": {},
   "outputs": [
    {
     "name": "stderr",
     "output_type": "stream",
     "text": [
      "Some weights of the model checkpoint at distilbert-base-uncased were not used when initializing DistilBertForSequenceClassification: ['vocab_layer_norm.weight', 'vocab_transform.bias', 'vocab_layer_norm.bias', 'vocab_transform.weight', 'vocab_projector.bias', 'vocab_projector.weight']\n",
      "- This IS expected if you are initializing DistilBertForSequenceClassification from the checkpoint of a model trained on another task or with another architecture (e.g. initializing a BertForSequenceClassification model from a BertForPreTraining model).\n",
      "- This IS NOT expected if you are initializing DistilBertForSequenceClassification from the checkpoint of a model that you expect to be exactly identical (initializing a BertForSequenceClassification model from a BertForSequenceClassification model).\n",
      "Some weights of DistilBertForSequenceClassification were not initialized from the model checkpoint at distilbert-base-uncased and are newly initialized: ['pre_classifier.bias', 'pre_classifier.weight', 'classifier.weight', 'classifier.bias']\n",
      "You should probably TRAIN this model on a down-stream task to be able to use it for predictions and inference.\n",
      "Using cuda_amp half precision backend\n"
     ]
    },
    {
     "data": {
      "application/javascript": [
       "\n",
       "            setTimeout(function() {\n",
       "                var nbb_cell_id = 24;\n",
       "                var nbb_unformatted_code = \"model = AutoModelForSequenceClassification.from_pretrained(\\n    \\\"distilbert-base-uncased\\\", num_labels=505\\n)\\ntrainer = Trainer(\\n    model,\\n    args,\\n    train_dataset=train_dataset,\\n    eval_dataset=val_dataset,\\n    tokenizer=tokenizer,\\n    compute_metrics=compute_metrics,\\n)\\n\\n# model = AutoModelForSequenceClassification.from_pretrained(\\n#     \\\"distilbert-base-uncased\\\", num_labels=505\\n# )\\n# trainer = Trainer(\\n#     model,\\n#     args,\\n#     train_dataset=train_dataset,\\n#     eval_dataset=val_dataset,\\n#     tokenizer=tokenizer,\\n# )\";\n",
       "                var nbb_formatted_code = \"model = AutoModelForSequenceClassification.from_pretrained(\\n    \\\"distilbert-base-uncased\\\", num_labels=505\\n)\\ntrainer = Trainer(\\n    model,\\n    args,\\n    train_dataset=train_dataset,\\n    eval_dataset=val_dataset,\\n    tokenizer=tokenizer,\\n    compute_metrics=compute_metrics,\\n)\\n\\n# model = AutoModelForSequenceClassification.from_pretrained(\\n#     \\\"distilbert-base-uncased\\\", num_labels=505\\n# )\\n# trainer = Trainer(\\n#     model,\\n#     args,\\n#     train_dataset=train_dataset,\\n#     eval_dataset=val_dataset,\\n#     tokenizer=tokenizer,\\n# )\";\n",
       "                var nbb_cells = Jupyter.notebook.get_cells();\n",
       "                for (var i = 0; i < nbb_cells.length; ++i) {\n",
       "                    if (nbb_cells[i].input_prompt_number == nbb_cell_id) {\n",
       "                        if (nbb_cells[i].get_text() == nbb_unformatted_code) {\n",
       "                             nbb_cells[i].set_text(nbb_formatted_code);\n",
       "                        }\n",
       "                        break;\n",
       "                    }\n",
       "                }\n",
       "            }, 500);\n",
       "            "
      ],
      "text/plain": [
       "<IPython.core.display.Javascript object>"
      ]
     },
     "metadata": {},
     "output_type": "display_data"
    }
   ],
   "source": [
    "model = AutoModelForSequenceClassification.from_pretrained(\n",
    "    \"distilbert-base-uncased\", num_labels=505\n",
    ")\n",
    "trainer = Trainer(\n",
    "    model,\n",
    "    args,\n",
    "    train_dataset=train_dataset,\n",
    "    eval_dataset=val_dataset,\n",
    "    tokenizer=tokenizer,\n",
    "    compute_metrics=compute_metrics,\n",
    ")\n",
    "\n",
    "# model = AutoModelForSequenceClassification.from_pretrained(\n",
    "#     \"distilbert-base-uncased\", num_labels=505\n",
    "# )\n",
    "# trainer = Trainer(\n",
    "#     model,\n",
    "#     args,\n",
    "#     train_dataset=train_dataset,\n",
    "#     eval_dataset=val_dataset,\n",
    "#     tokenizer=tokenizer,\n",
    "# )"
   ]
  },
  {
   "cell_type": "code",
   "execution_count": 25,
   "id": "ef0bf1cd",
   "metadata": {},
   "outputs": [
    {
     "name": "stderr",
     "output_type": "stream",
     "text": [
      "/home/ec2-user/anaconda3/envs/pytorch_p38/lib/python3.8/site-packages/transformers/optimization.py:306: FutureWarning: This implementation of AdamW is deprecated and will be removed in a future version. Use the PyTorch implementation torch.optim.AdamW instead, or set `no_deprecation_warning=True` to disable this warning\n",
      "  warnings.warn(\n",
      "***** Running training *****\n",
      "  Num examples = 5641\n",
      "  Num Epochs = 4\n",
      "  Instantaneous batch size per device = 16\n",
      "  Total train batch size (w. parallel, distributed & accumulation) = 16\n",
      "  Gradient Accumulation steps = 1\n",
      "  Total optimization steps = 1412\n",
      "/tmp/ipykernel_27360/166799662.py:10: UserWarning: To copy construct from a tensor, it is recommended to use sourceTensor.clone().detach() or sourceTensor.clone().detach().requires_grad_(True), rather than torch.tensor(sourceTensor).\n",
      "  item = {key: torch.tensor(val[idx]) for key, val in self.encodings.items()}\n",
      "You're using a DistilBertTokenizerFast tokenizer. Please note that with a fast tokenizer, using the `__call__` method is faster than using a method to encode the text followed by a call to the `pad` method to get a padded encoding.\n"
     ]
    },
    {
     "data": {
      "text/html": [
       "\n",
       "    <div>\n",
       "      \n",
       "      <progress value='1412' max='1412' style='width:300px; height:20px; vertical-align: middle;'></progress>\n",
       "      [1412/1412 07:19, Epoch 4/4]\n",
       "    </div>\n",
       "    <table border=\"1\" class=\"dataframe\">\n",
       "  <thead>\n",
       " <tr style=\"text-align: left;\">\n",
       "      <th>Epoch</th>\n",
       "      <th>Training Loss</th>\n",
       "      <th>Validation Loss</th>\n",
       "      <th>Precision</th>\n",
       "      <th>Recall</th>\n",
       "      <th>F1</th>\n",
       "      <th>Accuracy</th>\n",
       "    </tr>\n",
       "  </thead>\n",
       "  <tbody>\n",
       "    <tr>\n",
       "      <td>1</td>\n",
       "      <td>No log</td>\n",
       "      <td>5.445369</td>\n",
       "      <td>0.039872</td>\n",
       "      <td>0.039872</td>\n",
       "      <td>0.039872</td>\n",
       "      <td>0.039872</td>\n",
       "    </tr>\n",
       "    <tr>\n",
       "      <td>2</td>\n",
       "      <td>5.716600</td>\n",
       "      <td>4.626223</td>\n",
       "      <td>0.074960</td>\n",
       "      <td>0.074960</td>\n",
       "      <td>0.074960</td>\n",
       "      <td>0.074960</td>\n",
       "    </tr>\n",
       "    <tr>\n",
       "      <td>3</td>\n",
       "      <td>4.386700</td>\n",
       "      <td>4.218055</td>\n",
       "      <td>0.105263</td>\n",
       "      <td>0.105263</td>\n",
       "      <td>0.105263</td>\n",
       "      <td>0.105263</td>\n",
       "    </tr>\n",
       "    <tr>\n",
       "      <td>4</td>\n",
       "      <td>4.386700</td>\n",
       "      <td>4.148781</td>\n",
       "      <td>0.116427</td>\n",
       "      <td>0.116427</td>\n",
       "      <td>0.116427</td>\n",
       "      <td>0.116427</td>\n",
       "    </tr>\n",
       "  </tbody>\n",
       "</table><p>"
      ],
      "text/plain": [
       "<IPython.core.display.HTML object>"
      ]
     },
     "metadata": {},
     "output_type": "display_data"
    },
    {
     "name": "stderr",
     "output_type": "stream",
     "text": [
      "***** Running Evaluation *****\n",
      "  Num examples = 627\n",
      "  Batch size = 32\n",
      "/tmp/ipykernel_27360/235686084.py:5: FutureWarning: load_metric is deprecated and will be removed in the next major version of datasets. Use 'evaluate.load' instead, from the new library 🤗 Evaluate: https://huggingface.co/docs/evaluate\n",
      "  metric1 = load_metric(\"precision\")\n",
      "/tmp/ipykernel_27360/166799662.py:10: UserWarning: To copy construct from a tensor, it is recommended to use sourceTensor.clone().detach() or sourceTensor.clone().detach().requires_grad_(True), rather than torch.tensor(sourceTensor).\n",
      "  item = {key: torch.tensor(val[idx]) for key, val in self.encodings.items()}\n",
      "Saving model checkpoint to outputs/checkpoint-500\n",
      "Configuration saved in outputs/checkpoint-500/config.json\n",
      "Model weights saved in outputs/checkpoint-500/pytorch_model.bin\n",
      "tokenizer config file saved in outputs/checkpoint-500/tokenizer_config.json\n",
      "Special tokens file saved in outputs/checkpoint-500/special_tokens_map.json\n",
      "/tmp/ipykernel_27360/166799662.py:10: UserWarning: To copy construct from a tensor, it is recommended to use sourceTensor.clone().detach() or sourceTensor.clone().detach().requires_grad_(True), rather than torch.tensor(sourceTensor).\n",
      "  item = {key: torch.tensor(val[idx]) for key, val in self.encodings.items()}\n",
      "***** Running Evaluation *****\n",
      "  Num examples = 627\n",
      "  Batch size = 32\n",
      "/tmp/ipykernel_27360/166799662.py:10: UserWarning: To copy construct from a tensor, it is recommended to use sourceTensor.clone().detach() or sourceTensor.clone().detach().requires_grad_(True), rather than torch.tensor(sourceTensor).\n",
      "  item = {key: torch.tensor(val[idx]) for key, val in self.encodings.items()}\n",
      "Saving model checkpoint to outputs/checkpoint-1000\n",
      "Configuration saved in outputs/checkpoint-1000/config.json\n",
      "Model weights saved in outputs/checkpoint-1000/pytorch_model.bin\n",
      "tokenizer config file saved in outputs/checkpoint-1000/tokenizer_config.json\n",
      "Special tokens file saved in outputs/checkpoint-1000/special_tokens_map.json\n",
      "/tmp/ipykernel_27360/166799662.py:10: UserWarning: To copy construct from a tensor, it is recommended to use sourceTensor.clone().detach() or sourceTensor.clone().detach().requires_grad_(True), rather than torch.tensor(sourceTensor).\n",
      "  item = {key: torch.tensor(val[idx]) for key, val in self.encodings.items()}\n",
      "***** Running Evaluation *****\n",
      "  Num examples = 627\n",
      "  Batch size = 32\n",
      "/tmp/ipykernel_27360/166799662.py:10: UserWarning: To copy construct from a tensor, it is recommended to use sourceTensor.clone().detach() or sourceTensor.clone().detach().requires_grad_(True), rather than torch.tensor(sourceTensor).\n",
      "  item = {key: torch.tensor(val[idx]) for key, val in self.encodings.items()}\n",
      "***** Running Evaluation *****\n",
      "  Num examples = 627\n",
      "  Batch size = 32\n",
      "\n",
      "\n",
      "Training completed. Do not forget to share your model on huggingface.co/models =)\n",
      "\n",
      "\n"
     ]
    },
    {
     "data": {
      "text/plain": [
       "TrainOutput(global_step=1412, training_loss=4.686880657422981, metrics={'train_runtime': 440.6226, 'train_samples_per_second': 51.209, 'train_steps_per_second': 3.205, 'total_flos': 3015806532464640.0, 'train_loss': 4.686880657422981, 'epoch': 4.0})"
      ]
     },
     "execution_count": 25,
     "metadata": {},
     "output_type": "execute_result"
    },
    {
     "data": {
      "application/javascript": [
       "\n",
       "            setTimeout(function() {\n",
       "                var nbb_cell_id = 25;\n",
       "                var nbb_unformatted_code = \"trainer.train()\";\n",
       "                var nbb_formatted_code = \"trainer.train()\";\n",
       "                var nbb_cells = Jupyter.notebook.get_cells();\n",
       "                for (var i = 0; i < nbb_cells.length; ++i) {\n",
       "                    if (nbb_cells[i].input_prompt_number == nbb_cell_id) {\n",
       "                        if (nbb_cells[i].get_text() == nbb_unformatted_code) {\n",
       "                             nbb_cells[i].set_text(nbb_formatted_code);\n",
       "                        }\n",
       "                        break;\n",
       "                    }\n",
       "                }\n",
       "            }, 500);\n",
       "            "
      ],
      "text/plain": [
       "<IPython.core.display.Javascript object>"
      ]
     },
     "metadata": {},
     "output_type": "display_data"
    }
   ],
   "source": [
    "trainer.train()"
   ]
  },
  {
   "cell_type": "code",
   "execution_count": 30,
   "id": "d2c31f71",
   "metadata": {},
   "outputs": [
    {
     "name": "stderr",
     "output_type": "stream",
     "text": [
      "***** Running Prediction *****\n",
      "  Num examples = 627\n",
      "  Batch size = 32\n",
      "/tmp/ipykernel_27360/166799662.py:10: UserWarning: To copy construct from a tensor, it is recommended to use sourceTensor.clone().detach() or sourceTensor.clone().detach().requires_grad_(True), rather than torch.tensor(sourceTensor).\n",
      "  item = {key: torch.tensor(val[idx]) for key, val in self.encodings.items()}\n"
     ]
    },
    {
     "data": {
      "text/html": [],
      "text/plain": [
       "<IPython.core.display.HTML object>"
      ]
     },
     "metadata": {},
     "output_type": "display_data"
    },
    {
     "data": {
      "application/javascript": [
       "\n",
       "            setTimeout(function() {\n",
       "                var nbb_cell_id = 30;\n",
       "                var nbb_unformatted_code = \"import numpy as np\\n\\npreds = trainer.predict(val_dataset).predictions.astype(float)\\npredictions = np.argmax(preds, axis=-1)\\nactual = (val_dataset).labels\\ny_pred = predictions\";\n",
       "                var nbb_formatted_code = \"import numpy as np\\n\\npreds = trainer.predict(val_dataset).predictions.astype(float)\\npredictions = np.argmax(preds, axis=-1)\\nactual = (val_dataset).labels\\ny_pred = predictions\";\n",
       "                var nbb_cells = Jupyter.notebook.get_cells();\n",
       "                for (var i = 0; i < nbb_cells.length; ++i) {\n",
       "                    if (nbb_cells[i].input_prompt_number == nbb_cell_id) {\n",
       "                        if (nbb_cells[i].get_text() == nbb_unformatted_code) {\n",
       "                             nbb_cells[i].set_text(nbb_formatted_code);\n",
       "                        }\n",
       "                        break;\n",
       "                    }\n",
       "                }\n",
       "            }, 500);\n",
       "            "
      ],
      "text/plain": [
       "<IPython.core.display.Javascript object>"
      ]
     },
     "metadata": {},
     "output_type": "display_data"
    }
   ],
   "source": [
    "import numpy as np\n",
    "\n",
    "preds = trainer.predict(val_dataset).predictions.astype(float)\n",
    "predictions = np.argmax(preds, axis=-1)\n",
    "actual = (val_dataset).labels\n",
    "y_pred = predictions"
   ]
  },
  {
   "cell_type": "code",
   "execution_count": 31,
   "id": "145f6dd8",
   "metadata": {},
   "outputs": [
    {
     "data": {
      "application/javascript": [
       "\n",
       "            setTimeout(function() {\n",
       "                var nbb_cell_id = 31;\n",
       "                var nbb_unformatted_code = \"def check_top_5(idx):\\n    return True if actual[idx] in preds[idx].argsort()[-5:][::-1] else False\";\n",
       "                var nbb_formatted_code = \"def check_top_5(idx):\\n    return True if actual[idx] in preds[idx].argsort()[-5:][::-1] else False\";\n",
       "                var nbb_cells = Jupyter.notebook.get_cells();\n",
       "                for (var i = 0; i < nbb_cells.length; ++i) {\n",
       "                    if (nbb_cells[i].input_prompt_number == nbb_cell_id) {\n",
       "                        if (nbb_cells[i].get_text() == nbb_unformatted_code) {\n",
       "                             nbb_cells[i].set_text(nbb_formatted_code);\n",
       "                        }\n",
       "                        break;\n",
       "                    }\n",
       "                }\n",
       "            }, 500);\n",
       "            "
      ],
      "text/plain": [
       "<IPython.core.display.Javascript object>"
      ]
     },
     "metadata": {},
     "output_type": "display_data"
    }
   ],
   "source": [
    "def check_top_5(idx):\n",
    "    return True if actual[idx] in preds[idx].argsort()[-5:][::-1] else False"
   ]
  },
  {
   "cell_type": "code",
   "execution_count": 32,
   "id": "c478771a",
   "metadata": {},
   "outputs": [
    {
     "name": "stdout",
     "output_type": "stream",
     "text": [
      "230 397\n"
     ]
    },
    {
     "data": {
      "application/javascript": [
       "\n",
       "            setTimeout(function() {\n",
       "                var nbb_cell_id = 32;\n",
       "                var nbb_unformatted_code = \"true_count = 0\\nfalse_count = 0\\n\\nfor i in range(0, len(y_pred)):\\n\\n    if check_top_5(i):\\n        true_count += 1\\n    else:\\n        false_count += 1\\n\\nprint(true_count, false_count)\";\n",
       "                var nbb_formatted_code = \"true_count = 0\\nfalse_count = 0\\n\\nfor i in range(0, len(y_pred)):\\n\\n    if check_top_5(i):\\n        true_count += 1\\n    else:\\n        false_count += 1\\n\\nprint(true_count, false_count)\";\n",
       "                var nbb_cells = Jupyter.notebook.get_cells();\n",
       "                for (var i = 0; i < nbb_cells.length; ++i) {\n",
       "                    if (nbb_cells[i].input_prompt_number == nbb_cell_id) {\n",
       "                        if (nbb_cells[i].get_text() == nbb_unformatted_code) {\n",
       "                             nbb_cells[i].set_text(nbb_formatted_code);\n",
       "                        }\n",
       "                        break;\n",
       "                    }\n",
       "                }\n",
       "            }, 500);\n",
       "            "
      ],
      "text/plain": [
       "<IPython.core.display.Javascript object>"
      ]
     },
     "metadata": {},
     "output_type": "display_data"
    }
   ],
   "source": [
    "true_count = 0\n",
    "false_count = 0\n",
    "\n",
    "for i in range(0, len(y_pred)):\n",
    "\n",
    "    if check_top_5(i):\n",
    "        true_count += 1\n",
    "    else:\n",
    "        false_count += 1\n",
    "\n",
    "print(true_count, false_count)"
   ]
  },
  {
   "cell_type": "code",
   "execution_count": 34,
   "id": "8f8ed66e",
   "metadata": {},
   "outputs": [
    {
     "data": {
      "text/plain": [
       "36.68261562998405"
      ]
     },
     "execution_count": 34,
     "metadata": {},
     "output_type": "execute_result"
    },
    {
     "data": {
      "application/javascript": [
       "\n",
       "            setTimeout(function() {\n",
       "                var nbb_cell_id = 34;\n",
       "                var nbb_unformatted_code = \"230 / (230 + 397) *100\";\n",
       "                var nbb_formatted_code = \"230 / (230 + 397) * 100\";\n",
       "                var nbb_cells = Jupyter.notebook.get_cells();\n",
       "                for (var i = 0; i < nbb_cells.length; ++i) {\n",
       "                    if (nbb_cells[i].input_prompt_number == nbb_cell_id) {\n",
       "                        if (nbb_cells[i].get_text() == nbb_unformatted_code) {\n",
       "                             nbb_cells[i].set_text(nbb_formatted_code);\n",
       "                        }\n",
       "                        break;\n",
       "                    }\n",
       "                }\n",
       "            }, 500);\n",
       "            "
      ],
      "text/plain": [
       "<IPython.core.display.Javascript object>"
      ]
     },
     "metadata": {},
     "output_type": "display_data"
    }
   ],
   "source": [
    "230 / (230 + 397) * 100"
   ]
  },
  {
   "cell_type": "code",
   "execution_count": 35,
   "id": "d8bcec22",
   "metadata": {},
   "outputs": [
    {
     "data": {
      "application/javascript": [
       "\n",
       "            setTimeout(function() {\n",
       "                var nbb_cell_id = 35;\n",
       "                var nbb_unformatted_code = \"def check_top_10(idx):\\n    return True if actual[idx] in preds[idx].argsort()[-10:][::-1] else False\";\n",
       "                var nbb_formatted_code = \"def check_top_10(idx):\\n    return True if actual[idx] in preds[idx].argsort()[-10:][::-1] else False\";\n",
       "                var nbb_cells = Jupyter.notebook.get_cells();\n",
       "                for (var i = 0; i < nbb_cells.length; ++i) {\n",
       "                    if (nbb_cells[i].input_prompt_number == nbb_cell_id) {\n",
       "                        if (nbb_cells[i].get_text() == nbb_unformatted_code) {\n",
       "                             nbb_cells[i].set_text(nbb_formatted_code);\n",
       "                        }\n",
       "                        break;\n",
       "                    }\n",
       "                }\n",
       "            }, 500);\n",
       "            "
      ],
      "text/plain": [
       "<IPython.core.display.Javascript object>"
      ]
     },
     "metadata": {},
     "output_type": "display_data"
    }
   ],
   "source": [
    "def check_top_10(idx):\n",
    "    return True if actual[idx] in preds[idx].argsort()[-10:][::-1] else False"
   ]
  },
  {
   "cell_type": "code",
   "execution_count": 36,
   "id": "73bc28c9",
   "metadata": {},
   "outputs": [
    {
     "name": "stdout",
     "output_type": "stream",
     "text": [
      "319 308\n"
     ]
    },
    {
     "data": {
      "application/javascript": [
       "\n",
       "            setTimeout(function() {\n",
       "                var nbb_cell_id = 36;\n",
       "                var nbb_unformatted_code = \"true_count = 0\\nfalse_count = 0\\n\\nfor i in range(0, len(y_pred)):\\n\\n    if check_top_10(i):\\n        true_count += 1\\n    else:\\n        false_count += 1\\n\\nprint(true_count, false_count)\";\n",
       "                var nbb_formatted_code = \"true_count = 0\\nfalse_count = 0\\n\\nfor i in range(0, len(y_pred)):\\n\\n    if check_top_10(i):\\n        true_count += 1\\n    else:\\n        false_count += 1\\n\\nprint(true_count, false_count)\";\n",
       "                var nbb_cells = Jupyter.notebook.get_cells();\n",
       "                for (var i = 0; i < nbb_cells.length; ++i) {\n",
       "                    if (nbb_cells[i].input_prompt_number == nbb_cell_id) {\n",
       "                        if (nbb_cells[i].get_text() == nbb_unformatted_code) {\n",
       "                             nbb_cells[i].set_text(nbb_formatted_code);\n",
       "                        }\n",
       "                        break;\n",
       "                    }\n",
       "                }\n",
       "            }, 500);\n",
       "            "
      ],
      "text/plain": [
       "<IPython.core.display.Javascript object>"
      ]
     },
     "metadata": {},
     "output_type": "display_data"
    }
   ],
   "source": [
    "true_count = 0\n",
    "false_count = 0\n",
    "\n",
    "for i in range(0, len(y_pred)):\n",
    "\n",
    "    if check_top_10(i):\n",
    "        true_count += 1\n",
    "    else:\n",
    "        false_count += 1\n",
    "\n",
    "print(true_count, false_count)"
   ]
  },
  {
   "cell_type": "code",
   "execution_count": 38,
   "id": "6c31dc40",
   "metadata": {},
   "outputs": [
    {
     "data": {
      "text/plain": [
       "50.877192982456144"
      ]
     },
     "execution_count": 38,
     "metadata": {},
     "output_type": "execute_result"
    },
    {
     "data": {
      "application/javascript": [
       "\n",
       "            setTimeout(function() {\n",
       "                var nbb_cell_id = 38;\n",
       "                var nbb_unformatted_code = \"319 / (319 + 308) *100\";\n",
       "                var nbb_formatted_code = \"319 / (319 + 308) * 100\";\n",
       "                var nbb_cells = Jupyter.notebook.get_cells();\n",
       "                for (var i = 0; i < nbb_cells.length; ++i) {\n",
       "                    if (nbb_cells[i].input_prompt_number == nbb_cell_id) {\n",
       "                        if (nbb_cells[i].get_text() == nbb_unformatted_code) {\n",
       "                             nbb_cells[i].set_text(nbb_formatted_code);\n",
       "                        }\n",
       "                        break;\n",
       "                    }\n",
       "                }\n",
       "            }, 500);\n",
       "            "
      ],
      "text/plain": [
       "<IPython.core.display.Javascript object>"
      ]
     },
     "metadata": {},
     "output_type": "display_data"
    }
   ],
   "source": [
    "319 / (319 + 308) * 100"
   ]
  },
  {
   "cell_type": "code",
   "execution_count": null,
   "id": "824ccce7",
   "metadata": {},
   "outputs": [],
   "source": []
  }
 ],
 "metadata": {
  "kernelspec": {
   "display_name": "conda_pytorch_p38",
   "language": "python",
   "name": "conda_pytorch_p38"
  },
  "language_info": {
   "codemirror_mode": {
    "name": "ipython",
    "version": 3
   },
   "file_extension": ".py",
   "mimetype": "text/x-python",
   "name": "python",
   "nbconvert_exporter": "python",
   "pygments_lexer": "ipython3",
   "version": "3.8.12"
  },
  "varInspector": {
   "cols": {
    "lenName": 16,
    "lenType": 16,
    "lenVar": 40
   },
   "kernels_config": {
    "python": {
     "delete_cmd_postfix": "",
     "delete_cmd_prefix": "del ",
     "library": "var_list.py",
     "varRefreshCmd": "print(var_dic_list())"
    },
    "r": {
     "delete_cmd_postfix": ") ",
     "delete_cmd_prefix": "rm(",
     "library": "var_list.r",
     "varRefreshCmd": "cat(var_dic_list()) "
    }
   },
   "types_to_exclude": [
    "module",
    "function",
    "builtin_function_or_method",
    "instance",
    "_Feature"
   ],
   "window_display": false
  }
 },
 "nbformat": 4,
 "nbformat_minor": 5
}
